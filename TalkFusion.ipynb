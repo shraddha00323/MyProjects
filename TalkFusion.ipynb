{
 "cells": [
  {
   "cell_type": "code",
   "execution_count": 1,
   "id": "1946ca3c-ad56-4443-8f7f-4e06e752186b",
   "metadata": {},
   "outputs": [],
   "source": [
    "# Importing necessary libraries\n",
    "\n",
    "import speech_recognition as sr\n",
    "import pyttsx3\n",
    "import pywhatkit\n",
    "import webbrowser\n",
    "import requests\n",
    "import feedparser"
   ]
  },
  {
   "cell_type": "code",
   "execution_count": 2,
   "id": "786dbd2a-7b34-45dc-a9bd-07a6b23e27d8",
   "metadata": {},
   "outputs": [],
   "source": [
    "# Initialize TTS engine\n",
    "\n",
    "engine = pyttsx3.init()\n",
    "\n",
    "def speak(text):\n",
    "    print(\"Assistant:\", text)\n",
    "    engine.say(text)\n",
    "    engine.runAndWait()\n",
    "    engine.stop()\n",
    "\n",
    "def listen():\n",
    "    recognizer = sr.Recognizer()\n",
    "    with sr.Microphone() as source:\n",
    "        print(\"Listening...\")\n",
    "        audio = recognizer.listen(source)\n",
    "    try:\n",
    "        command = recognizer.recognize_google(audio)\n",
    "        print(f\"You said: {command}\")\n",
    "        return command.lower()\n",
    "    except sr.UnknownValueError:\n",
    "        speak(\"Sorry, I didn't understand.\")\n",
    "        return None\n",
    "    except sr.RequestError:\n",
    "        speak(\"Network error.\")\n",
    "        return None"
   ]
  },
  {
   "cell_type": "markdown",
   "id": "eff42d7f-b0cc-4934-8254-698ce73a5594",
   "metadata": {},
   "source": [
    "# Functionalities"
   ]
  },
  {
   "cell_type": "code",
   "execution_count": 3,
   "id": "c36ffb6a-cb9c-4093-aef5-94f7639752aa",
   "metadata": {},
   "outputs": [],
   "source": [
    "# Play YouTube music\n",
    "\n",
    "def play_song(song_name):\n",
    "    speak(f\"Playing {song_name} on YouTube\")\n",
    "    pywhatkit.playonyt(song_name)"
   ]
  },
  {
   "cell_type": "code",
   "execution_count": 4,
   "id": "13da0166-cdf0-4fd2-9776-079a71032536",
   "metadata": {},
   "outputs": [],
   "source": [
    "# Open a website\n",
    "\n",
    "def open_website(website):\n",
    "    website = website.strip().lower()\n",
    "    if not website.startswith(\"http\"):\n",
    "        website = f\"https://www.{website}.com\"\n",
    "    speak(f\"Opening {website}\")\n",
    "    webbrowser.open(website)"
   ]
  },
  {
   "cell_type": "code",
   "execution_count": 15,
   "id": "7f6658f3-9b47-4760-bf70-8e6c71644f65",
   "metadata": {},
   "outputs": [],
   "source": [
    "# Get weather\n",
    "\n",
    "def get_weather(city=\"Agra\"):\n",
    "    api_key = \"e8114cbb5e94dc7e032fdcc6b652cdaa\"  # Replace with your working API key\n",
    "    url = f\"http://api.openweathermap.org/data/2.5/weather?q={city}&appid={api_key}&units=metric\"\n",
    "    try:\n",
    "        response = requests.get(url).json()\n",
    "        if response[\"cod\"] == 200:\n",
    "            temp = response[\"main\"][\"temp\"]\n",
    "            desc = response[\"weather\"][0][\"description\"]\n",
    "            speak(f\"The temperature in {city} is {temp} degrees Celsius with {desc}.\")\n",
    "        else:\n",
    "            speak(\"Weather information is not available.\")\n",
    "    except:\n",
    "        speak(\"Failed to fetch weather data.\")"
   ]
  },
  {
   "cell_type": "code",
   "execution_count": 6,
   "id": "e177a126-aadb-48fa-acbc-e3fbf852044e",
   "metadata": {},
   "outputs": [],
   "source": [
    "# Get news headlines\n",
    "\n",
    "def get_news():\n",
    "    speak(\"Fetching top news headlines.\")\n",
    "    feed = feedparser.parse(\"https://news.google.com/rss\")\n",
    "    try:\n",
    "        for i, entry in enumerate(feed.entries[:8], 1):\n",
    "            headline = entry.title\n",
    "            speak(f\"Headline {i}: {headline}\")\n",
    "    except:\n",
    "        speak(\"Failed to retrieve news.\")"
   ]
  },
  {
   "cell_type": "code",
   "execution_count": 17,
   "id": "52a29aff-f0a6-41fc-8acd-feef5db335f7",
   "metadata": {},
   "outputs": [
    {
     "name": "stdout",
     "output_type": "stream",
     "text": [
      "Assistant: Hello! What would you like me to do?\n",
      "Listening...\n",
      "You said: get news headlines\n",
      "Assistant: Fetching top news headlines.\n",
      "Assistant: Headline 1: Ashoka University professor arrested over social media post on Operation Sindoor - India Today\n",
      "Assistant: Headline 2: Hyderabad fire LIVE updates: Several dead in massive blaze near Charminar - The Hindu\n",
      "Assistant: Headline 3: 'Planned, trained & executed': Army shares new video of Operation Sindoor - Times of India\n",
      "Assistant: Headline 4: Shashi Tharoor in USA, Kanimozhi in Russia: Full list of delegations to share India's message against terrorism - Mint\n",
      "Assistant: Headline 5: EOS-09 mission: What ISRO said on the failed satellite launch - Hindustan Times\n",
      "Assistant: Headline 6: Trump's White House advisory panel has 2 jihadists, one attended Lashkar training camp in 2000 - Firstpost\n",
      "Assistant: Headline 7: Heavy showers, IPL crowd cause gridlock - Deccan Herald\n",
      "Assistant: Headline 8: ‘Misrepresentation of facts’: MEA clarifies Jaishankar’s ‘warned Pakistan at the start’ of Operation Sindoor remark - The Hindu\n"
     ]
    }
   ],
   "source": [
    "# Main program Logic\n",
    "\n",
    "if __name__ == \"__main__\":\n",
    "    speak(\"Hello! What would you like me to do?\")\n",
    "    command = listen()\n",
    "\n",
    "    if command:\n",
    "        if \"play\" in command:\n",
    "            song = command.replace(\"play\", \"\").strip()\n",
    "            play_song(song)\n",
    "\n",
    "        elif \"open\" in command:\n",
    "            site = command.replace(\"open\", \"\").strip()\n",
    "            open_website(site)\n",
    "\n",
    "        elif \"weather\" in command:\n",
    "            get_weather()\n",
    "\n",
    "        elif \"news\" in command or \"headlines\" in command:\n",
    "            get_news()\n",
    "\n",
    "        else:\n",
    "            speak(\"I can play music, open websites, get weather or news headlines.\")\n",
    "    else:\n",
    "        speak(\"No command detected.\")"
   ]
  },
  {
   "cell_type": "code",
   "execution_count": null,
   "id": "6d53a3ca-0dbf-4354-ad11-b7b6fd2a45bf",
   "metadata": {},
   "outputs": [],
   "source": []
  }
 ],
 "metadata": {
  "kernelspec": {
   "display_name": "Python 3 (ipykernel)",
   "language": "python",
   "name": "python3"
  },
  "language_info": {
   "codemirror_mode": {
    "name": "ipython",
    "version": 3
   },
   "file_extension": ".py",
   "mimetype": "text/x-python",
   "name": "python",
   "nbconvert_exporter": "python",
   "pygments_lexer": "ipython3",
   "version": "3.11.7"
  }
 },
 "nbformat": 4,
 "nbformat_minor": 5
}
